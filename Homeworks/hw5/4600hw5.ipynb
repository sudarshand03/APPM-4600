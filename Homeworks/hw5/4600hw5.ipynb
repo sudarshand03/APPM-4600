{
 "cells": [
  {
   "cell_type": "code",
   "execution_count": 42,
   "metadata": {},
   "outputs": [],
   "source": [
    "import numpy as np\n",
    "from numpy import ndarray\n",
    "from numpy.linalg import inv, norm\n",
    "import matplotlib.pyplot as plt\n",
    "import math\n",
    "import time\n",
    "from typing import Callable, Tuple, Union, List\n",
    "import pandas as pd"
   ]
  },
  {
   "cell_type": "markdown",
   "metadata": {},
   "source": [
    "# Question 1"
   ]
  },
  {
   "cell_type": "markdown",
   "metadata": {},
   "source": [
    "## 1a"
   ]
  },
  {
   "cell_type": "code",
   "execution_count": 7,
   "metadata": {},
   "outputs": [],
   "source": [
    "def f(x, y):\n",
    "    return 3*x**2 - y**2\n",
    "\n",
    "def g(x, y):\n",
    "    return 3*x*y**2 - x**3 - 1"
   ]
  },
  {
   "cell_type": "code",
   "execution_count": 9,
   "metadata": {},
   "outputs": [],
   "source": [
    "def fixed_iteration(x0, y0, max_iter=100, tol=1e-8):\n",
    "    jac = np.array([[1/6, 1/18],\n",
    "                  [   0, 1/6  ]])\n",
    "    \n",
    "    x, y = x0, y0\n",
    "    for n in range(max_iter):\n",
    "        F_val = f(x, y)\n",
    "        G_val = g(x, y)\n",
    "        \n",
    "        dx = jac[0, 0]*F_val + jac[0, 1]*G_val\n",
    "        dy = jac[1, 0]*F_val + jac[1, 1]*G_val\n",
    "        \n",
    "        x_new = x - dx\n",
    "        y_new = y - dy\n",
    "        \n",
    "        diff = np.sqrt((x_new - x)**2 + (y_new - y)**2)\n",
    "        if diff < tol:\n",
    "            return x_new, y_new, n+1\n",
    "        \n",
    "        x, y = x_new, y_new\n",
    "    \n",
    "    return x, y, max_iter\n",
    "\n"
   ]
  },
  {
   "cell_type": "code",
   "execution_count": 8,
   "metadata": {},
   "outputs": [
    {
     "name": "stdout",
     "output_type": "stream",
     "text": [
      "Converged in 41 iterations to x = 0.4999999999999763, y = 0.8660254037837039\n",
      "f(x,y) = 1.201594379551807e-12, g(x,y) = -1.944444605328499e-12\n"
     ]
    }
   ],
   "source": [
    "x0, y0 = 1.0, 1.0\n",
    "x_sol, y_sol, iters = fixed_iteration(x0, y0, max_iter=1000, tol=1e-12)\n",
    "print(f\"Converged in {iters} iterations to x = {x_sol}, y = {y_sol}\")\n",
    "print(f\"f(x,y) = {f(x_sol, y_sol)}, g(x,y) = {g(x_sol, y_sol)}\")"
   ]
  },
  {
   "cell_type": "markdown",
   "metadata": {},
   "source": [
    "## 1c"
   ]
  },
  {
   "cell_type": "code",
   "execution_count": 14,
   "metadata": {},
   "outputs": [],
   "source": [
    "\n",
    "def evalF(X):\n",
    "    x, y = X\n",
    "    f_val = 3*x**2 - y**2\n",
    "    g_val = 3*x*y**2 - x**3 - 1\n",
    "    return np.array([f_val, g_val])\n",
    "\n",
    "\n",
    "def evalJ(X):\n",
    "    x, y = X\n",
    "    return np.array([\n",
    "        [6*x,        -2*y],\n",
    "        [3*y**2 - 3*x**2,  6*x*y]\n",
    "    ])"
   ]
  },
  {
   "cell_type": "code",
   "execution_count": 15,
   "metadata": {},
   "outputs": [],
   "source": [
    "def Newton(x0, tol, Nmax):\n",
    "    for its in range(Nmax):\n",
    "        J = evalJ(x0)\n",
    "        Jinv = inv(J)\n",
    "        F = evalF(x0)\n",
    "\n",
    "        x1 = x0 - Jinv.dot(F)\n",
    "\n",
    "        if (norm(x1-x0) < tol):\n",
    "            xstar = x1\n",
    "            ier = 0\n",
    "            return [xstar, ier, its]\n",
    "\n",
    "        x0 = x1\n",
    "\n",
    "    xstar = x1\n",
    "    ier = 1\n",
    "    return [xstar, ier, its]"
   ]
  },
  {
   "cell_type": "code",
   "execution_count": 16,
   "metadata": {},
   "outputs": [
    {
     "name": "stdout",
     "output_type": "stream",
     "text": [
      "Solution: x = 0.5, y = 0.8660254037844386\n",
      "Converged in 5 iterations, ier = 0\n",
      "F(xstar) = [ 1.11022302e-16 -2.22044605e-16]\n"
     ]
    }
   ],
   "source": [
    "x0 = np.array([1.0, 1.0])\n",
    "tol = 1e-12\n",
    "Nmax = 50\n",
    "\n",
    "xstar, ier, its = Newton(x0, tol, Nmax)\n",
    "print(f\"Solution: x = {xstar[0]}, y = {xstar[1]}\")\n",
    "print(f\"Converged in {its} iterations, ier = {ier}\")\n",
    "print(f\"F(xstar) = {evalF(xstar)}\")"
   ]
  },
  {
   "cell_type": "markdown",
   "metadata": {},
   "source": [
    "# Question 3"
   ]
  },
  {
   "cell_type": "markdown",
   "metadata": {},
   "source": [
    "## 3b"
   ]
  },
  {
   "cell_type": "code",
   "execution_count": 49,
   "metadata": {},
   "outputs": [],
   "source": [
    "def f(x, y, z):\n",
    "    return x**2 + 4*y**2 + 4*z**2 - 16\n",
    "\n",
    "\n",
    "def grad_f(x, y, z):\n",
    "    df_x = 2*x\n",
    "    df_y = 8*y\n",
    "    df_z = 8*z\n",
    "    return np.array([df_x, df_y, df_z])\n",
    "\n",
    "\n",
    "def normal_iteration_3d(x0, y0, z0, tol=1e-10, max_iter=50):\n",
    "    x, y, z = x0, y0, z0\n",
    "    history = []\n",
    "\n",
    "    f_old = f(x, y, z)\n",
    "    history.append((0, x, y, z, f_old, None))  \n",
    "\n",
    "    for n in range(1,max_iter):\n",
    "        fx, fy, fz = grad_f(x, y, z)\n",
    "        denom = fx**2 + fy**2 + fz**2\n",
    "\n",
    "        d = f_old / denom\n",
    "\n",
    "        x_new = x - d*fx\n",
    "        y_new = y - d*fy\n",
    "        z_new = z - d*fz\n",
    "\n",
    "        f_new = f(x_new, y_new, z_new)\n",
    "\n",
    "        if abs(f_old) > 0:\n",
    "            ratio = abs(f_new) / (f_old**2)\n",
    "        else:\n",
    "            ratio = None\n",
    "\n",
    "        history.append((n, x_new, y_new, z_new, f_new, ratio))\n",
    "\n",
    "        if abs(f_new) < tol:\n",
    "            return (x_new, y_new, z_new), history, n+1\n",
    "\n",
    "        x, y, z = x_new, y_new, z_new\n",
    "        f_old = f_new\n",
    "\n",
    "    return (x, y, z), history, max_iter\n"
   ]
  },
  {
   "cell_type": "code",
   "execution_count": 50,
   "metadata": {},
   "outputs": [
    {
     "data": {
      "text/html": [
       "<div>\n",
       "<style scoped>\n",
       "    .dataframe tbody tr th:only-of-type {\n",
       "        vertical-align: middle;\n",
       "    }\n",
       "\n",
       "    .dataframe tbody tr th {\n",
       "        vertical-align: top;\n",
       "    }\n",
       "\n",
       "    .dataframe thead th {\n",
       "        text-align: right;\n",
       "    }\n",
       "</style>\n",
       "<table border=\"1\" class=\"dataframe\">\n",
       "  <thead>\n",
       "    <tr style=\"text-align: right;\">\n",
       "      <th></th>\n",
       "      <th>Iteration</th>\n",
       "      <th>x</th>\n",
       "      <th>y</th>\n",
       "      <th>z</th>\n",
       "      <th>f(x,y,z)</th>\n",
       "      <th>Ratio</th>\n",
       "    </tr>\n",
       "  </thead>\n",
       "  <tbody>\n",
       "    <tr>\n",
       "      <th>0</th>\n",
       "      <td>0</td>\n",
       "      <td>1.000000</td>\n",
       "      <td>1.000000</td>\n",
       "      <td>1.000000</td>\n",
       "      <td>-7.000000e+00</td>\n",
       "      <td>NaN</td>\n",
       "    </tr>\n",
       "    <tr>\n",
       "      <th>1</th>\n",
       "      <td>1</td>\n",
       "      <td>1.106061</td>\n",
       "      <td>1.424242</td>\n",
       "      <td>1.424242</td>\n",
       "      <td>1.451102e+00</td>\n",
       "      <td>0.029614</td>\n",
       "    </tr>\n",
       "    <tr>\n",
       "      <th>2</th>\n",
       "      <td>2</td>\n",
       "      <td>1.093926</td>\n",
       "      <td>1.361742</td>\n",
       "      <td>1.361742</td>\n",
       "      <td>3.139797e-02</td>\n",
       "      <td>0.014911</td>\n",
       "    </tr>\n",
       "    <tr>\n",
       "      <th>3</th>\n",
       "      <td>3</td>\n",
       "      <td>1.093642</td>\n",
       "      <td>1.360329</td>\n",
       "      <td>1.360329</td>\n",
       "      <td>1.604374e-05</td>\n",
       "      <td>0.016274</td>\n",
       "    </tr>\n",
       "    <tr>\n",
       "      <th>4</th>\n",
       "      <td>4</td>\n",
       "      <td>1.093642</td>\n",
       "      <td>1.360328</td>\n",
       "      <td>1.360328</td>\n",
       "      <td>4.199308e-12</td>\n",
       "      <td>0.016314</td>\n",
       "    </tr>\n",
       "  </tbody>\n",
       "</table>\n",
       "</div>"
      ],
      "text/plain": [
       "   Iteration         x         y         z      f(x,y,z)     Ratio\n",
       "0          0  1.000000  1.000000  1.000000 -7.000000e+00       NaN\n",
       "1          1  1.106061  1.424242  1.424242  1.451102e+00  0.029614\n",
       "2          2  1.093926  1.361742  1.361742  3.139797e-02  0.014911\n",
       "3          3  1.093642  1.360329  1.360329  1.604374e-05  0.016274\n",
       "4          4  1.093642  1.360328  1.360328  4.199308e-12  0.016314"
      ]
     },
     "metadata": {},
     "output_type": "display_data"
    },
    {
     "name": "stdout",
     "output_type": "stream",
     "text": [
      "\n",
      "Converged to x = 1.09364231738823, y = 1.36032838322323, z = 1.36032838322323\n",
      "Final residual f(x, y, z) = 4.19930756834219e-12\n",
      "Converged in 5 iterations, ier = 0\n"
     ]
    }
   ],
   "source": [
    "x0, y0, z0 = 1.0, 1.0, 1.0\n",
    "\n",
    "(solution_x, solution_y, solution_z), hist, iter = normal_iteration_3d(x0, y0, z0, tol=1e-10, max_iter=50)\n",
    "\n",
    "df = pd.DataFrame(hist, columns=['Iteration', 'x', 'y', 'z', 'f(x,y,z)', 'Ratio'])\n",
    "\n",
    "display(df)\n",
    "\n",
    "print(f\"\\nConverged to x = {solution_x:.15g}, y = {solution_y:.15g}, z = {solution_z:.15g}\")\n",
    "print(f\"Final residual f(x, y, z) = {f(solution_x, solution_y, solution_z):.15g}\")\n",
    "print(f\"Converged in {iter} iterations, ier = {ier}\")\n"
   ]
  },
  {
   "cell_type": "code",
   "execution_count": null,
   "metadata": {},
   "outputs": [],
   "source": []
  }
 ],
 "metadata": {
  "kernelspec": {
   "display_name": "Python 3",
   "language": "python",
   "name": "python3"
  },
  "language_info": {
   "codemirror_mode": {
    "name": "ipython",
    "version": 3
   },
   "file_extension": ".py",
   "mimetype": "text/x-python",
   "name": "python",
   "nbconvert_exporter": "python",
   "pygments_lexer": "ipython3",
   "version": "3.13.2"
  }
 },
 "nbformat": 4,
 "nbformat_minor": 2
}
