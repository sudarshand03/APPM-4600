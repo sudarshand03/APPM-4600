{
 "cells": [
  {
   "cell_type": "markdown",
   "metadata": {},
   "source": [
    "# Question 1"
   ]
  },
  {
   "cell_type": "code",
   "execution_count": 41,
   "metadata": {},
   "outputs": [],
   "source": [
    "import numpy as np\n",
    "import matplotlib.pyplot as plt\n",
    "import math\n",
    "import time\n",
    "from numpy.linalg import inv\n",
    "from numpy.linalg import norm\n",
    "from numpy.typing import NDArray\n",
    "from scipy import io, integrate, linalg, signal\n",
    "from scipy.linalg import lu_factor, lu_solve"
   ]
  },
  {
   "cell_type": "code",
   "execution_count": 6,
   "metadata": {},
   "outputs": [],
   "source": [
    "def func_1(input_vec):\n",
    "    x, y = input_vec#2d x array\n",
    "    f1 = x**2 +y**2 -4\n",
    "    f2 = np.exp(x)+ y -1\n",
    "\n",
    "    return np.array([f1,f2], dtype=float)"
   ]
  },
  {
   "cell_type": "code",
   "execution_count": 12,
   "metadata": {},
   "outputs": [],
   "source": [
    "def jac_1(x):\n",
    "    return np.array([[2*x[0], 2*x[1]],\n",
    "                     [np.exp(x[0]), 1]])"
   ]
  },
  {
   "cell_type": "code",
   "execution_count": 42,
   "metadata": {},
   "outputs": [],
   "source": [
    "def approximate_jacobian(f, x, h=1e-8):\n",
    "    n = len(x)\n",
    "    fx = f(x)\n",
    "    m = len(fx)\n",
    "    J = np.zeros((m, n))\n",
    "    for j in range(n):\n",
    "        x1 = x.copy()\n",
    "        x1[j] += h\n",
    "        fx1 = f(x1)\n",
    "        J[:, j] = (fx1 - fx) / h\n",
    "    return J"
   ]
  },
  {
   "cell_type": "code",
   "execution_count": 8,
   "metadata": {},
   "outputs": [],
   "source": [
    "input_vec_1=np.array([1, 1])\n",
    "input_vec_2=np.array([1, -1])\n",
    "input_vec_3=np.array([0, 0])"
   ]
  },
  {
   "cell_type": "code",
   "execution_count": 45,
   "metadata": {},
   "outputs": [],
   "source": [
    "def Newton_Q1(x0,tol,Nmax):\n",
    "\n",
    "    ''' inputs: x0 = initial guess, tol = tolerance, Nmax = max its'''\n",
    "    ''' Outputs: xstar= approx root, ier = error message, its = num its'''\n",
    "\n",
    "    for its in range(Nmax):\n",
    "       J = jac_1(x0)\n",
    "       if np.linalg.det(J) == 0:\n",
    "            print(\"Non-invertible Jacobian\")\n",
    "            return None, 1, None\n",
    "       Jinv = inv(J)\n",
    "       F = func_1(x0)\n",
    "       \n",
    "       x1 = x0 - Jinv.dot(F)\n",
    "       \n",
    "       if (norm(x1-x0) < tol):\n",
    "           xstar = x1\n",
    "           ier =0\n",
    "           return[xstar, ier, its]\n",
    "           \n",
    "       x0 = x1\n",
    "    \n",
    "    xstar = x1\n",
    "    ier = 1\n",
    "    return[xstar,ier,its]\n",
    "\n",
    "def LazyNewton_Q1(x0,tol,Nmax):\n",
    "\n",
    "    ''' Lazy Newton = use only the inverse of the Jacobian for initial guess'''\n",
    "    ''' inputs: x0 = initial guess, tol = tolerance, Nmax = max its'''\n",
    "    ''' Outputs: xstar= approx root, ier = error message, its = num its'''\n",
    "\n",
    "    J = jac_1(x0)\n",
    "    if np.linalg.det(J) == 0:\n",
    "        print(\"Non-invertible Jacobian\")\n",
    "        return None, 1, None\n",
    "    Jinv = inv(J)\n",
    "\n",
    "    for its in range(Nmax):\n",
    "\n",
    "       F = func_1(x0)\n",
    "       x1 = x0 - Jinv.dot(F)\n",
    "       \n",
    "       if (norm(x1-x0) < tol):\n",
    "           xstar = x1\n",
    "           ier =0\n",
    "           return[xstar, ier,its]\n",
    "           \n",
    "       x0 = x1\n",
    "    \n",
    "    xstar = x1\n",
    "    ier = 1\n",
    "    return[xstar,ier,its]  \n",
    "\n",
    "     "
   ]
  },
  {
   "cell_type": "code",
   "execution_count": 47,
   "metadata": {},
   "outputs": [],
   "source": [
    "\n",
    "def Broyden_q1(f, B0, x0, tol, nmax, Bmat='Id', verb=False):\n",
    "    \"\"\"\n",
    "    Broyden's method for solving f(x)=0 in R^n.\n",
    "\n",
    "    Parameters:\n",
    "        f : function\n",
    "            Function f: R^n -> R^n.\n",
    "        B0 : ndarray or None\n",
    "            Initial approximation matrix. It is ignored if Bmat=='Id'.\n",
    "        x0 : ndarray\n",
    "            Initial guess.\n",
    "        tol : float\n",
    "            Tolerance for convergence.\n",
    "        nmax : int\n",
    "            Maximum number of iterations.\n",
    "        Bmat : str, optional\n",
    "            Specifies how to set B0:\n",
    "            'fwd' : B0 is an approximation of Jf(x0)\n",
    "            'inv' : B0 is an approximation of the inverse of Jf(x0)\n",
    "            'Id'  : B0 is taken as the identity matrix\n",
    "        verb : bool, optional\n",
    "            If True, prints iteration information.\n",
    "\n",
    "    Returns:\n",
    "        x : ndarray\n",
    "            Approximate solution.\n",
    "        ier : int\n",
    "            Error flag (0 if converged, 1 otherwise).\n",
    "        it : int\n",
    "            Number of iterations performed.\n",
    "    \"\"\"\n",
    "    n = len(x0)\n",
    "    x = x0.copy()\n",
    "\n",
    "    # Initialize B0 based on the chosen option\n",
    "    if Bmat == 'fwd':\n",
    "        if B0 is None:\n",
    "            B0 = approximate_jacobian(f, x0)\n",
    "    elif Bmat == 'inv':\n",
    "        if B0 is None:\n",
    "            J0 = approximate_jacobian(f, x0)\n",
    "            B0 = inv(J0)\n",
    "    elif Bmat == 'Id':\n",
    "        B0 = np.eye(n)\n",
    "    else:\n",
    "        raise ValueError(\"Unknown Bmat option. Use 'fwd', 'inv', or 'Id'.\")\n",
    "\n",
    "    fx = f(x)\n",
    "\n",
    "    for it in range(1, nmax+1):\n",
    "        # Depending on whether B0 approximates the Jacobian or its inverse, \n",
    "        # compute the update dx.\n",
    "        if Bmat == 'inv':\n",
    "            dx = -B0.dot(fx)\n",
    "        else:\n",
    "            # If B0 approximates the Jacobian, solve B0 dx = -f(x)\n",
    "            dx = np.linalg.solve(B0, -fx)\n",
    "        \n",
    "        x_new = x + dx\n",
    "        \n",
    "        if norm(dx) < tol:\n",
    "            if verb:\n",
    "                print(f\"Converged in {it} iterations.\")\n",
    "            return x_new, 0, it\n",
    "        \n",
    "        f_new = f(x_new)\n",
    "        y = f_new - fx  # Change in function values\n",
    "        \n",
    "        # Broyden update for B0\n",
    "        if Bmat in ['fwd', 'Id']:\n",
    "            # Forward (Jacobian) update:\n",
    "            dx_norm_sq = np.dot(dx, dx)\n",
    "            if dx_norm_sq == 0:\n",
    "                if verb:\n",
    "                    print(\"Zero denominator in forward update; terminating.\")\n",
    "                return x_new, 1, it\n",
    "            B0 = B0 + np.outer((y - B0.dot(dx)), dx) / dx_norm_sq\n",
    "        elif Bmat == 'inv':\n",
    "            # Inverse update (Sherman-Morrison formula):\n",
    "            denom = np.dot(dx, B0.dot(f_new))\n",
    "            if abs(denom) < 1e-12:\n",
    "                if verb:\n",
    "                    print(\"Small denominator in inverse update; terminating.\")\n",
    "                return x_new, 1, it\n",
    "            B0 = B0 + np.outer((dx - B0.dot(y)), (dx.dot(B0))) / denom\n",
    "        \n",
    "        # Prepare for next iteration\n",
    "        x = x_new\n",
    "        fx = f_new\n",
    "        \n",
    "        # if verb:\n",
    "        #     print(f\"Iteration {it}: x = {x}, f(x) = {fx}\")\n",
    "\n",
    "    return x, 1, nmax\n"
   ]
  },
  {
   "cell_type": "code",
   "execution_count": 34,
   "metadata": {},
   "outputs": [],
   "source": [
    "# initial_guesses = np.array([(1,1), (1,-1), (0,0)])\n",
    "tol = 1e-7\n",
    "max_iter = 100"
   ]
  },
  {
   "cell_type": "code",
   "execution_count": 56,
   "metadata": {},
   "outputs": [
    {
     "name": "stdout",
     "output_type": "stream",
     "text": [
      "Iteration 1: x = [4. 0.], f(x) = [12.         53.59815003]\n",
      "Iteration 2: x = [  1.         -13.39953751], f(x) = [176.54760544 -11.68125568]\n",
      "Iteration 3: x = [-0.02268209  0.5745922 ], f(x) = [-3.66932933  0.55216541]\n",
      "Iteration 4: x = [-0.02388757  0.28798907], f(x) = [-3.91649168  0.26438455]\n",
      "Iteration 5: x = [-0.40094856  5.41534964], f(x) = [25.48677143  5.08503414]\n",
      "Iteration 6: x = [-0.14276026  0.9816466 ], f(x) = [-3.01598946  0.84860849]\n",
      "Iteration 7: x = [-0.26770239  1.46381955], f(x) = [-1.78556776  1.22895501]\n",
      "Iteration 8: x = [-0.61900161  2.26318011], f(x) = [1.50514721 1.8016619 ]\n",
      "Iteration 9: x = [-0.60270838  1.93124381], f(x) = [0.09296007 1.47857107]\n",
      "Iteration 10: x = [-0.72420529  1.94023298], f(x) = [0.28897733 1.4249426 ]\n",
      "Iteration 11: x = [-1.68501805  1.60104464], f(x) = [1.40262976 0.78648572]\n",
      "Iteration 12: x = [-1.70498058  1.23971339], f(x) = [0.44384806 0.42148931]\n",
      "Iteration 13: x = [-2.03231445  0.77165492], f(x) = [ 0.72575336 -0.09731318]\n",
      "Iteration 14: x = [-1.76486227  0.87235096], f(x) = [-0.12426498  0.04356132]\n",
      "Iteration 15: x = [-1.81180489  0.83914756], f(x) = [-0.01319441  0.00250658]\n",
      "Iteration 16: x = [-1.81643003  0.83717141], f(x) = [ 0.00027403 -0.00022337]\n",
      "Iteration 17: x = [-1.81627223  0.8373469 ], f(x) = [-5.34577958e-06 -2.22275715e-05]\n",
      "Iteration 18: x = [-1.81626464  0.8373664 ], f(x) = [-2.71076034e-07 -1.49367475e-06]\n",
      "Iteration 19: x = [-1.81626407  0.8373678 ], f(x) = [8.76526407e-10 4.54730964e-09]\n",
      "Converged in 20 iterations.\n"
     ]
    },
    {
     "data": {
      "text/plain": [
       "(array([-1.81626407,  0.8373678 ]), 0, 20)"
      ]
     },
     "execution_count": 56,
     "metadata": {},
     "output_type": "execute_result"
    }
   ],
   "source": [
    "Broyden_q1(func_1, None, np.array((0,0)), tol, max_iter, Bmat='Id', verb=True)"
   ]
  },
  {
   "cell_type": "code",
   "execution_count": 53,
   "metadata": {},
   "outputs": [
    {
     "name": "stdout",
     "output_type": "stream",
     "text": [
      "Iteration 1: x = [ 3.         -1.71828183], f(x) = [ 7.95249244 17.36725509]\n",
      "Iteration 2: x = [7.5478856  8.21373508], f(x) = [ 120.43602093 1903.94178258]\n",
      "Iteration 3: x = [ 0.67584982 -0.69867813], f(x) = [-3.0550759   0.26702463]\n",
      "Iteration 4: x = [ 1.66850374 -1.18359563], f(x) = [0.18480334 3.1206297 ]\n",
      "Iteration 5: x = [ 1.66292738 -1.20102258], f(x) = [0.20778272 3.07370685]\n",
      "Iteration 6: x = [ 1.51904447 -1.33642317], f(x) = [0.09352299 2.23143524]\n",
      "Iteration 7: x = [ 0.65812581 -2.35204652], f(x) = [ 1.9652524  -1.42087696]\n",
      "Iteration 8: x = [ 1.34714491 -1.42235015], f(x) = [-0.16212065  1.42407778]\n",
      "Iteration 9: x = [ 1.20206053 -1.54858186], f(x) = [-0.1569447   0.77838333]\n",
      "Iteration 10: x = [ 0.89394988 -1.85747964], f(x) = [ 0.249377  -0.4127125]\n",
      "Iteration 11: x = [ 1.04540667 -1.6931624 ], f(x) = [-0.040326    0.15139267]\n",
      "Iteration 12: x = [ 1.01699005 -1.72058074], f(x) = [-0.00533315  0.04427941]\n",
      "Iteration 13: x = [ 1.00920798 -1.72703193], f(x) = [0.00114002 0.01639536]\n",
      "Iteration 14: x = [ 1.00738293 -1.72789507], f(x) = [0.00044175 0.01052991]\n",
      "Iteration 15: x = [ 1.00202674 -1.73081244], f(x) = [-0.00023073 -0.00701577]\n",
      "Iteration 16: x = [ 1.00422421 -1.72960469], f(x) = [-1.33547525e-06  1.84024913e-04]\n",
      "Iteration 17: x = [ 1.00415787 -1.72964314], f(x) = [-1.58617480e-06 -3.55088749e-05]\n",
      "Iteration 18: x = [ 1.00416673 -1.72963838], f(x) = [-2.61007134e-07 -6.56864134e-06]\n",
      "Iteration 19: x = [ 1.0041688  -1.72963725], f(x) = [8.33569391e-09 2.09591532e-07]\n",
      "Converged in 20 iterations.\n"
     ]
    },
    {
     "data": {
      "text/plain": [
       "(array([ 1.00416874, -1.72963729]), 0, 20)"
      ]
     },
     "execution_count": 53,
     "metadata": {},
     "output_type": "execute_result"
    }
   ],
   "source": [
    "Broyden_q1(func_1, None, np.array((1,1)), tol, max_iter, Bmat='Id', verb=True)"
   ]
  },
  {
   "cell_type": "code",
   "execution_count": 54,
   "metadata": {},
   "outputs": [
    {
     "name": "stdout",
     "output_type": "stream",
     "text": [
      "Iteration 1: x = [ 3.         -1.71828183], f(x) = [ 7.95249244 17.36725509]\n",
      "Iteration 2: x = [ -1.51943097 -11.58815735], f(x) = [132.59406121 -12.36932097]\n",
      "Iteration 3: x = [ 0.93873908 -0.98156009], f(x) = [-2.15530873  0.57519545]\n",
      "Iteration 4: x = [ 0.85458223 -1.14904203], f(x) = [-1.94939164  0.20135022]\n",
      "Iteration 5: x = [ 0.6470422  -2.00287161], f(x) = [ 0.4301583 -1.0929882]\n",
      "Iteration 6: x = [ 0.79847782 -1.72852555], f(x) = [-0.3746326  -0.50636971]\n",
      "Iteration 7: x = [ 0.85976177 -1.76362378], f(x) = [-0.15044085 -0.40102599]\n",
      "Iteration 8: x = [ 1.02412965 -1.73701705], f(x) = [0.06606977 0.04765373]\n",
      "Iteration 9: x = [ 1.00278236 -1.73013365], f(x) = [-0.00106509 -0.00427806]\n",
      "Iteration 10: x = [ 1.00418084 -1.72968017], f(x) = [ 1.72639571e-04 -9.83647181e-06]\n",
      "Iteration 11: x = [ 1.00416992 -1.72963904], f(x) = [8.45391615e-06 1.47775421e-06]\n",
      "Iteration 12: x = [ 1.00416874 -1.72963729], f(x) = [6.52259402e-09 7.12905290e-11]\n",
      "Converged in 13 iterations.\n"
     ]
    },
    {
     "data": {
      "text/plain": [
       "(array([ 1.00416874, -1.72963729]), 0, 13)"
      ]
     },
     "execution_count": 54,
     "metadata": {},
     "output_type": "execute_result"
    }
   ],
   "source": [
    "Broyden_q1(func_1, None, np.array((1,-1)), tol, max_iter, Bmat='Id', verb=True)"
   ]
  },
  {
   "cell_type": "code",
   "execution_count": 36,
   "metadata": {},
   "outputs": [
    {
     "name": "stdout",
     "output_type": "stream",
     "text": [
      "[array([nan, nan]), 1, 99]\n",
      "[array([ 1.00416873, -1.72963726]), 0, 25]\n",
      "Non-invertible Jacobian\n",
      "(None, 1, None)\n"
     ]
    },
    {
     "name": "stderr",
     "output_type": "stream",
     "text": [
      "/var/folders/bk/w3kf9k496lv9ntkhhfbltxs80000gn/T/ipykernel_92136/3690288146.py:4: RuntimeWarning: overflow encountered in exp\n",
      "  f2 = np.exp(x)+ y -1\n"
     ]
    }
   ],
   "source": [
    "print(LazyNewton_Q1(func_1, (1,1), tol, max_iter))\n",
    "print(LazyNewton_Q1((1,-1), tol, max_iter))\n",
    "print(LazyNewton_Q1((0,0), tol, max_iter))"
   ]
  },
  {
   "cell_type": "code",
   "execution_count": 40,
   "metadata": {},
   "outputs": [
    {
     "name": "stdout",
     "output_type": "stream",
     "text": [
      "[array([-1.81626407,  0.8373678 ]), 0, 7]\n",
      "[array([ 1.00416874, -1.72963729]), 0, 4]\n",
      "Non-invertible Jacobian\n",
      "(None, 1, None)\n"
     ]
    }
   ],
   "source": [
    "print(Newton_Q1((1,1), tol, max_iter))\n",
    "print(Newton_Q1((1,-1), tol, max_iter))\n",
    "print(Newton_Q1((0,0), tol, max_iter))"
   ]
  },
  {
   "cell_type": "markdown",
   "metadata": {},
   "source": [
    "# Quesiton 2\n"
   ]
  },
  {
   "cell_type": "code",
   "execution_count": 60,
   "metadata": {},
   "outputs": [],
   "source": [
    "def func_2(x):\n",
    "    f1 = x[0] + math.cos(x[0]*x[1]*x[2]) - 1\n",
    "    f2 = (1 - x[0])**(1/4) + x[1] + 0.05*x[2]**2 - 0.15*x[2] - 1\n",
    "    f3 = -x[0]**2 - 0.1*x[1]**2 + 0.01*x[1] + x[2] - 1\n",
    "    return np.array([f1, f2, f3])\n",
    "\n",
    "def jac_2(x):\n",
    "    J11 = 1 - math.sin(x[0]*x[1]*x[2]) * (x[1]*x[2])\n",
    "    J12 = - math.sin(x[0]*x[1]*x[2]) * (x[0]*x[2])\n",
    "    J13 = - math.sin(x[0]*x[1]*x[2]) * (x[0]*x[1])\n",
    "    \n",
    "    J21 = - (1/4) * (1 - x[0])**(-3/4)\n",
    "    J22 = 1\n",
    "    J23 = 0.1*x[2] - 0.15\n",
    "    \n",
    "    J31 = -2*x[0]\n",
    "    J32 = -0.2*x[1] + 0.01\n",
    "    J33 = 1\n",
    "    \n",
    "    return np.array([[J11, J12, J13],\n",
    "                     [J21, J22, J23],\n",
    "                     [J31, J32, J33]])"
   ]
  },
  {
   "cell_type": "code",
   "execution_count": 61,
   "metadata": {},
   "outputs": [],
   "source": [
    "def Newton_q2(x0,Nmax=100, tol =1e-6):\n",
    "\n",
    "    ''' inputs: x0 = initial guess, tol = tolerance, Nmax = max its'''\n",
    "    ''' Outputs: xstar= approx root, ier = error message, its = num its'''\n",
    "\n",
    "    for its in range(Nmax):\n",
    "       J = jac_2(x0)\n",
    "       Jinv = inv(J)\n",
    "       F = func_2(x0)\n",
    "       \n",
    "       x1 = x0 - Jinv.dot(F)\n",
    "       \n",
    "       if (norm(x1-x0) < tol):\n",
    "           xstar = x1\n",
    "           ier =0\n",
    "           return[xstar, ier, its]\n",
    "           \n",
    "       x0 = x1\n",
    "    \n",
    "    xstar = x1\n",
    "    ier = 1\n",
    "    return[xstar,ier,its]\n"
   ]
  },
  {
   "cell_type": "code",
   "execution_count": 71,
   "metadata": {},
   "outputs": [],
   "source": [
    "def steepest_descent(x0, Nmax=100, tol=1e-6):\n",
    "    x = x0.copy()\n",
    "    for it in range(Nmax):\n",
    "        fx = func_2(x)\n",
    "        phi = 0.5 * norm(fx)**2\n",
    "        if norm(fx) < tol:\n",
    "            return x, it+1\n",
    "        grad = jac_2(x).T.dot(fx)\n",
    "        num = np.dot(grad, grad)\n",
    "        denom = np.dot(grad, (jac_2(x).T @ jac_2(x)) @ grad)\n",
    "        if denom == 0:\n",
    "            alpha = 1e-3\n",
    "        else:\n",
    "            alpha = num / denom\n",
    "        x = x - alpha * grad\n",
    "    return x, Nmax\n"
   ]
  },
  {
   "cell_type": "code",
   "execution_count": 95,
   "metadata": {},
   "outputs": [],
   "source": [
    "def hybrid_method(x0, tol_phase1=5e-2, tol_phase2=1e-6, maxit_phase1=100, maxit_phase2=100):\n",
    "    x_phase1, it1 = steepest_descent(x0, Nmax= maxit_phase1, tol=tol_phase1)\n",
    "\n",
    "    x_phase2, ier, it2 = Newton_q2(x_phase1,Nmax=maxit_phase2, tol=tol_phase2)\n",
    "    \n",
    "    return x_phase2, it1, it2\n"
   ]
  },
  {
   "cell_type": "code",
   "execution_count": 90,
   "metadata": {},
   "outputs": [
    {
     "name": "stdout",
     "output_type": "stream",
     "text": [
      "Initial guess: [0.5 0.5 0.5]\n",
      "\n",
      "Newton's method:\n",
      "  Solution = [-3.89385281e-17  1.00000000e-01  1.00000000e+00]\n",
      "  Iterations = 4\n",
      "  Residual norm = 1.1102230246251565e-16\n"
     ]
    }
   ],
   "source": [
    "\n",
    "x0 = np.array([0.5, 0.5, 0.5])\n",
    "print(\"Initial guess:\", x0)\n",
    "\n",
    "# Test Newton's method\n",
    "start = time.time()\n",
    "sol_newton, ier,it_newton = Newton_q2(x0, 1e-7, 100)\n",
    "print(\"\\nNewton's method:\")\n",
    "print(\"  Solution =\", sol_newton)\n",
    "print(\"  Iterations =\", it_newton)\n",
    "print(\"  Residual norm =\", norm(func_2(sol_newton)))\n"
   ]
  },
  {
   "cell_type": "code",
   "execution_count": 91,
   "metadata": {},
   "outputs": [
    {
     "name": "stdout",
     "output_type": "stream",
     "text": [
      "\n",
      "Steepest Descent method:\n",
      "  Solution = [7.54089630e-07 1.00000278e-01 1.00000018e+00]\n",
      "  Iterations = 11\n",
      "  Residual norm = 7.796339767305405e-07\n"
     ]
    }
   ],
   "source": [
    "# Test Steepest Descent method\n",
    "sol_sd, it_sd = steepest_descent(x0, tol=1e-6)\n",
    "print(\"\\nSteepest Descent method:\")\n",
    "print(\"  Solution =\", sol_sd)\n",
    "print(\"  Iterations =\", it_sd)\n",
    "print(\"  Residual norm =\", norm(func_2(sol_sd)))\n"
   ]
  },
  {
   "cell_type": "code",
   "execution_count": 96,
   "metadata": {},
   "outputs": [
    {
     "name": "stdout",
     "output_type": "stream",
     "text": [
      "\n",
      "Hybrid (Steepest Descent then Newton) method:\n",
      "  Intermediate steepest descent iterations = 4\n",
      "  Newton iterations after steepest descent = 2\n",
      "  Total iterations = 6\n",
      "  Solution = [2.69598361e-17 1.00000000e-01 1.00000000e+00]\n",
      "  Residual norm = 1.1102230246251565e-16\n"
     ]
    }
   ],
   "source": [
    "\n",
    "sol_hybrid, it_phase1, it_phase2 = hybrid_method(x0, tol_phase1=5e-2, tol_phase2=1e-6)\n",
    "print(\"\\nHybrid (Steepest Descent then Newton) method:\")\n",
    "print(\"  Intermediate steepest descent iterations =\", it_phase1)\n",
    "print(\"  Newton iterations after steepest descent =\", it_phase2)\n",
    "print(\"  Total iterations =\", it_phase1 + it_phase2)\n",
    "print(\"  Solution =\", sol_hybrid)\n",
    "print(\"  Residual norm =\", norm(func_2(sol_hybrid)))\n"
   ]
  },
  {
   "cell_type": "code",
   "execution_count": null,
   "metadata": {},
   "outputs": [],
   "source": []
  }
 ],
 "metadata": {
  "kernelspec": {
   "display_name": "Python 3",
   "language": "python",
   "name": "python3"
  },
  "language_info": {
   "codemirror_mode": {
    "name": "ipython",
    "version": 3
   },
   "file_extension": ".py",
   "mimetype": "text/x-python",
   "name": "python",
   "nbconvert_exporter": "python",
   "pygments_lexer": "ipython3",
   "version": "3.13.2"
  }
 },
 "nbformat": 4,
 "nbformat_minor": 2
}
