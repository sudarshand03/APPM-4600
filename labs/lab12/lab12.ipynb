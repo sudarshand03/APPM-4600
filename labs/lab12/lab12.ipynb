{
 "cells": [
  {
   "cell_type": "code",
   "execution_count": 3,
   "metadata": {},
   "outputs": [],
   "source": [
    "import numpy as np\n",
    "import matplotlib.pyplot as plt"
   ]
  },
  {
   "cell_type": "markdown",
   "metadata": {},
   "source": [
    "# Pre-Lab"
   ]
  },
  {
   "cell_type": "code",
   "execution_count": 1,
   "metadata": {},
   "outputs": [],
   "source": [
    "def composite_trapezoid(f, a, b, N):\n",
    "    if N < 2:\n",
    "        raise ValueError(\"N must be at least 2.\")\n",
    "    h = (b - a) / (N - 1)\n",
    "    x = [a + i * h for i in range(N)]\n",
    "    return h * (0.5 * f(x[0]) + sum(f(xi) for xi in x[1:-1]) + 0.5 * f(x[-1]))\n"
   ]
  },
  {
   "cell_type": "code",
   "execution_count": 2,
   "metadata": {},
   "outputs": [],
   "source": [
    "def composite_simpson(f, a, b, N):\n",
    "    if N < 3 or N % 2 == 0:\n",
    "        raise ValueError(\"N must be an odd number ≥ 3.\")\n",
    "    h = (b - a) / (N - 1)\n",
    "    x = [a + i * h for i in range(N)]\n",
    "    return (h / 3) * (\n",
    "        f(x[0]) +\n",
    "        4 * sum(f(x[i]) for i in range(1, N-1, 2)) +\n",
    "        2 * sum(f(x[i]) for i in range(2, N-2, 2)) +\n",
    "        f(x[-1])\n",
    "    )\n"
   ]
  },
  {
   "cell_type": "code",
   "execution_count": 6,
   "metadata": {},
   "outputs": [],
   "source": [
    "def gauss_quad(M, a, b, f):\n",
    "    # Get the M Gauss-Legendre nodes and weights on [-1, 1]\n",
    "    nodes, weights = np.polynomial.legendre.leggauss(M)\n",
    "    \n",
    "    # Map the nodes from [-1, 1] to [a, b]\n",
    "    X = 0.5 * (b - a) * nodes + 0.5 * (a + b)\n",
    "    \n",
    "    # Transform weights accordingly; the scaling factor is (b-a)/2\n",
    "    I = 0.5 * (b - a) * np.sum(weights * f(X))\n",
    "    \n",
    "    # For a single subinterval evaluation, we set nsplit = 1\n",
    "    return I, X, 1\n"
   ]
  },
  {
   "cell_type": "code",
   "execution_count": 11,
   "metadata": {},
   "outputs": [
    {
     "name": "stderr",
     "output_type": "stream",
     "text": [
      "<>:2: SyntaxWarning: invalid escape sequence '\\i'\n",
      "<>:2: SyntaxWarning: invalid escape sequence '\\i'\n",
      "/var/folders/bk/w3kf9k496lv9ntkhhfbltxs80000gn/T/ipykernel_18114/605815979.py:2: SyntaxWarning: invalid escape sequence '\\i'\n",
      "  \"\"\"\n"
     ]
    }
   ],
   "source": [
    "\n",
    "def adaptive_quad(a,b,f,tol,M,method):\n",
    "  \"\"\"\n",
    "  Adaptive numerical integrator for \\int_a^b f(x)dx\n",
    "  \n",
    "  Input:\n",
    "  a,b - interval [a,b]\n",
    "  f - function to integrate\n",
    "  tol - absolute accuracy goal\n",
    "  M - number of quadrature nodes per bisected interval\n",
    "  method - function handle for integrating on subinterval\n",
    "         - eg) eval_gauss_quad, eval_composite_simpsons etc.\n",
    "  \n",
    "  Output: I - the approximate integral\n",
    "          X - final adapted grid nodes\n",
    "          nsplit - number of interval splits\n",
    "  \"\"\"\n",
    "  # 1/2^50 ~ 1e-15\n",
    "  maxit = 50\n",
    "  left_p = np.zeros((maxit,))\n",
    "  right_p = np.zeros((maxit,))\n",
    "  s = np.zeros((maxit,1))\n",
    "  left_p[0] = a; right_p[0] = b;\n",
    "  # initial approx and grid\n",
    "  s[0],x,_ = method(M,a,b,f);\n",
    "  # save grid\n",
    "  X = []\n",
    "  X.append(x)\n",
    "  j = 1;\n",
    "  I = 0;\n",
    "  nsplit = 1;\n",
    "  while j < maxit:\n",
    "    # get midpoint to split interval into left and right\n",
    "    c = 0.5*(left_p[j-1]+right_p[j-1]);\n",
    "    # compute integral on left and right spilt intervals\n",
    "    s1,x,_ = method(M,left_p[j-1],c,f); X.append(x)\n",
    "    s2,x,_ = method(M,c,right_p[j-1],f); X.append(x)\n",
    "    if np.max(np.abs(s1+s2-s[j-1])) > tol:\n",
    "      left_p[j] = left_p[j-1]\n",
    "      right_p[j] = 0.5*(left_p[j-1]+right_p[j-1])\n",
    "      s[j] = s1\n",
    "      left_p[j-1] = 0.5*(left_p[j-1]+right_p[j-1])\n",
    "      s[j-1] = s2\n",
    "      j = j+1\n",
    "      nsplit = nsplit+1\n",
    "    else:\n",
    "      I = I+s1+s2\n",
    "      j = j-1\n",
    "      if j == 0:\n",
    "        j = maxit\n",
    "  return I,np.unique(X),nsplit"
   ]
  },
  {
   "cell_type": "code",
   "execution_count": 9,
   "metadata": {},
   "outputs": [],
   "source": [
    "def adaptive_gauss_quad(a, b, f, tol, M, method=gauss_quad):\n",
    "\n",
    "    return adaptive_quad(a, b, f, tol, M, method)\n",
    "\n",
    "\n",
    "def adaptive_composite_trap(a, b, f, tol, M, method=composite_trapezoid):\n",
    "    \"\"\"\n",
    "    Adaptive quadrature using the Composite Trapezoidal Rule as the underlying method.\n",
    "    \"\"\"\n",
    "    return adaptive_quad(a, b, f, tol, M, method)\n",
    "\n",
    "\n",
    "def adaptive_composite_simpsons(a, b, f, tol, M, method=composite_simpson):\n",
    "    \"\"\"\n",
    "    Adaptive quadrature using the Composite Simpson's Rule as the underlying method.\n",
    "    \"\"\"\n",
    "    return adaptive_quad(a, b, f, tol, M, method)"
   ]
  },
  {
   "cell_type": "code",
   "execution_count": 12,
   "metadata": {},
   "outputs": [
    {
     "name": "stderr",
     "output_type": "stream",
     "text": [
      "/var/folders/bk/w3kf9k496lv9ntkhhfbltxs80000gn/T/ipykernel_18114/605815979.py:2: SyntaxWarning: invalid escape sequence '\\i'\n",
      "  \"\"\"\n"
     ]
    },
    {
     "ename": "TypeError",
     "evalue": "'<' not supported between instances of 'function' and 'int'",
     "output_type": "error",
     "traceback": [
      "\u001b[0;31m---------------------------------------------------------------------------\u001b[0m",
      "\u001b[0;31mTypeError\u001b[0m                                 Traceback (most recent call last)",
      "Cell \u001b[0;32mIn[12], line 14\u001b[0m\n\u001b[1;32m      9\u001b[0m \u001b[38;5;66;03m# Choose the adaptive routine you want to test:\u001b[39;00m\n\u001b[1;32m     10\u001b[0m \u001b[38;5;66;03m# method_func = adaptive_gauss_quad\u001b[39;00m\n\u001b[1;32m     11\u001b[0m \u001b[38;5;66;03m# method_func = adaptive_composite_trap\u001b[39;00m\n\u001b[1;32m     12\u001b[0m method_func \u001b[38;5;241m=\u001b[39m adaptive_composite_simpsons  \u001b[38;5;66;03m# try this one\u001b[39;00m\n\u001b[0;32m---> 14\u001b[0m I_adapt, mesh, nsplit \u001b[38;5;241m=\u001b[39m \u001b[43mmethod_func\u001b[49m\u001b[43m(\u001b[49m\u001b[43ma\u001b[49m\u001b[43m,\u001b[49m\u001b[43m \u001b[49m\u001b[43mb\u001b[49m\u001b[43m,\u001b[49m\u001b[43m \u001b[49m\u001b[43mf\u001b[49m\u001b[43m,\u001b[49m\u001b[43m \u001b[49m\u001b[43mtol\u001b[49m\u001b[43m,\u001b[49m\u001b[43m \u001b[49m\u001b[43mM\u001b[49m\u001b[43m)\u001b[49m\n\u001b[1;32m     16\u001b[0m \u001b[38;5;28mprint\u001b[39m(\u001b[38;5;124m\"\u001b[39m\u001b[38;5;124mAdaptive Quadrature Result:\u001b[39m\u001b[38;5;124m\"\u001b[39m, I_adapt)\n\u001b[1;32m     17\u001b[0m \u001b[38;5;28mprint\u001b[39m(\u001b[38;5;124m\"\u001b[39m\u001b[38;5;124mTrue Value:\u001b[39m\u001b[38;5;124m\"\u001b[39m, I_true)\n",
      "Cell \u001b[0;32mIn[9], line 17\u001b[0m, in \u001b[0;36madaptive_composite_simpsons\u001b[0;34m(a, b, f, tol, M, method)\u001b[0m\n\u001b[1;32m     13\u001b[0m \u001b[38;5;28;01mdef\u001b[39;00m\u001b[38;5;250m \u001b[39m\u001b[38;5;21madaptive_composite_simpsons\u001b[39m(a, b, f, tol, M, method\u001b[38;5;241m=\u001b[39mcomposite_simpson):\n\u001b[1;32m     14\u001b[0m \u001b[38;5;250m    \u001b[39m\u001b[38;5;124;03m\"\"\"\u001b[39;00m\n\u001b[1;32m     15\u001b[0m \u001b[38;5;124;03m    Adaptive quadrature using the Composite Simpson's Rule as the underlying method.\u001b[39;00m\n\u001b[1;32m     16\u001b[0m \u001b[38;5;124;03m    \"\"\"\u001b[39;00m\n\u001b[0;32m---> 17\u001b[0m     \u001b[38;5;28;01mreturn\u001b[39;00m \u001b[43madaptive_quad\u001b[49m\u001b[43m(\u001b[49m\u001b[43ma\u001b[49m\u001b[43m,\u001b[49m\u001b[43m \u001b[49m\u001b[43mb\u001b[49m\u001b[43m,\u001b[49m\u001b[43m \u001b[49m\u001b[43mf\u001b[49m\u001b[43m,\u001b[49m\u001b[43m \u001b[49m\u001b[43mtol\u001b[49m\u001b[43m,\u001b[49m\u001b[43m \u001b[49m\u001b[43mM\u001b[49m\u001b[43m,\u001b[49m\u001b[43m \u001b[49m\u001b[43mmethod\u001b[49m\u001b[43m)\u001b[49m\n",
      "Cell \u001b[0;32mIn[11], line 24\u001b[0m, in \u001b[0;36madaptive_quad\u001b[0;34m(a, b, f, tol, M, method)\u001b[0m\n\u001b[1;32m     22\u001b[0m left_p[\u001b[38;5;241m0\u001b[39m] \u001b[38;5;241m=\u001b[39m a; right_p[\u001b[38;5;241m0\u001b[39m] \u001b[38;5;241m=\u001b[39m b;\n\u001b[1;32m     23\u001b[0m \u001b[38;5;66;03m# initial approx and grid\u001b[39;00m\n\u001b[0;32m---> 24\u001b[0m s[\u001b[38;5;241m0\u001b[39m],x,_ \u001b[38;5;241m=\u001b[39m \u001b[43mmethod\u001b[49m\u001b[43m(\u001b[49m\u001b[43mM\u001b[49m\u001b[43m,\u001b[49m\u001b[43ma\u001b[49m\u001b[43m,\u001b[49m\u001b[43mb\u001b[49m\u001b[43m,\u001b[49m\u001b[43mf\u001b[49m\u001b[43m)\u001b[49m;\n\u001b[1;32m     25\u001b[0m \u001b[38;5;66;03m# save grid\u001b[39;00m\n\u001b[1;32m     26\u001b[0m X \u001b[38;5;241m=\u001b[39m []\n",
      "Cell \u001b[0;32mIn[2], line 2\u001b[0m, in \u001b[0;36mcomposite_simpson\u001b[0;34m(f, a, b, N)\u001b[0m\n\u001b[1;32m      1\u001b[0m \u001b[38;5;28;01mdef\u001b[39;00m\u001b[38;5;250m \u001b[39m\u001b[38;5;21mcomposite_simpson\u001b[39m(f, a, b, N):\n\u001b[0;32m----> 2\u001b[0m     \u001b[38;5;28;01mif\u001b[39;00m \u001b[43mN\u001b[49m\u001b[43m \u001b[49m\u001b[38;5;241;43m<\u001b[39;49m\u001b[43m \u001b[49m\u001b[38;5;241;43m3\u001b[39;49m \u001b[38;5;129;01mor\u001b[39;00m N \u001b[38;5;241m%\u001b[39m \u001b[38;5;241m2\u001b[39m \u001b[38;5;241m==\u001b[39m \u001b[38;5;241m0\u001b[39m:\n\u001b[1;32m      3\u001b[0m         \u001b[38;5;28;01mraise\u001b[39;00m \u001b[38;5;167;01mValueError\u001b[39;00m(\u001b[38;5;124m\"\u001b[39m\u001b[38;5;124mN must be an odd number ≥ 3.\u001b[39m\u001b[38;5;124m\"\u001b[39m)\n\u001b[1;32m      4\u001b[0m     h \u001b[38;5;241m=\u001b[39m (b \u001b[38;5;241m-\u001b[39m a) \u001b[38;5;241m/\u001b[39m (N \u001b[38;5;241m-\u001b[39m \u001b[38;5;241m1\u001b[39m)\n",
      "\u001b[0;31mTypeError\u001b[0m: '<' not supported between instances of 'function' and 'int'"
     ]
    }
   ],
   "source": [
    "\n",
    "# Example function to integrate and its true value (modify as desired):\n",
    "f = lambda x: np.sin(1/x)\n",
    "I_true = 1.14555\n",
    "a, b = 0.1, 2.0\n",
    "\n",
    "tol = 1e-14\n",
    "M = 5  \n",
    "\n",
    "# Choose the adaptive routine you want to test:\n",
    "# method_func = adaptive_gauss_quad\n",
    "# method_func = adaptive_composite_trap\n",
    "method_func = adaptive_composite_simpsons  # try this one\n",
    "\n",
    "I_adapt, mesh, nsplit = method_func(a, b, f, tol, M)\n",
    "\n",
    "print(\"Adaptive Quadrature Result:\", I_adapt)\n",
    "print(\"True Value:\", I_true)\n",
    "print(\"Relative Error:\", np.abs(I_adapt - I_true)/I_true)\n",
    "print(\"Total subinterval evaluations:\", nsplit)\n",
    "\n",
    "# Optionally, plot the mesh used:\n",
    "plt.figure()\n",
    "plt.plot(mesh, f(mesh), 'o-')\n",
    "plt.xlabel('x')\n",
    "plt.ylabel('f(x)')\n",
    "plt.title('Adaptive Quadrature Mesh')\n",
    "plt.show()"
   ]
  },
  {
   "cell_type": "code",
   "execution_count": null,
   "metadata": {},
   "outputs": [],
   "source": []
  }
 ],
 "metadata": {
  "kernelspec": {
   "display_name": "Python 3",
   "language": "python",
   "name": "python3"
  },
  "language_info": {
   "codemirror_mode": {
    "name": "ipython",
    "version": 3
   },
   "file_extension": ".py",
   "mimetype": "text/x-python",
   "name": "python",
   "nbconvert_exporter": "python",
   "pygments_lexer": "ipython3",
   "version": "3.13.2"
  }
 },
 "nbformat": 4,
 "nbformat_minor": 2
}
