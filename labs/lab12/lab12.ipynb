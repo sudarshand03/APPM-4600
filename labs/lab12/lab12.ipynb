{
 "cells": [
  {
   "cell_type": "code",
   "execution_count": 5,
   "metadata": {},
   "outputs": [],
   "source": [
    "import numpy as np\n",
    "import matplotlib.pyplot as plt"
   ]
  },
  {
   "cell_type": "markdown",
   "metadata": {},
   "source": [
    "# Pre-Lab"
   ]
  },
  {
   "cell_type": "code",
   "execution_count": 8,
   "metadata": {},
   "outputs": [],
   "source": [
    "def lgwt(N, a, b):\n",
    "    x, w = np.polynomial.legendre.leggauss(N)\n",
    "    x = 0.5*(x + 1)*(b - a) + a\n",
    "    w = w * 0.5*(b - a)\n",
    "    return x, w"
   ]
  },
  {
   "cell_type": "code",
   "execution_count": 9,
   "metadata": {},
   "outputs": [],
   "source": [
    "def eval_composite_trap(M, a, b, f):\n",
    "    x = np.linspace(a, b, M)\n",
    "    h = (b - a) / (M - 1)\n",
    "    I_hat = h * (0.5 * f(x[0]) + np.sum(f(x[1:-1])) + 0.5 * f(x[-1]))\n",
    "    return I_hat, x, None"
   ]
  },
  {
   "cell_type": "code",
   "execution_count": 10,
   "metadata": {},
   "outputs": [],
   "source": [
    "def eval_composite_simpsons(M, a, b, f):\n",
    "    if M % 2 == 0:\n",
    "        raise ValueError(\"M must be odd for Simpson's rule.\")\n",
    "    x = np.linspace(a, b, M)\n",
    "    h = (b - a) / (M - 1)\n",
    "    # Simpson's rule approximation:\n",
    "    I_hat = h/3 * (f(x[0]) + f(x[-1]) +\n",
    "                   4 * np.sum(f(x[1:-1:2])) +\n",
    "                   2 * np.sum(f(x[2:-1:2])))\n",
    "    return I_hat, x, None"
   ]
  },
  {
   "cell_type": "code",
   "execution_count": 11,
   "metadata": {},
   "outputs": [],
   "source": [
    "def eval_gauss_quad(M, a, b, f):\n",
    "    x, w = lgwt(M, a, b)\n",
    "    I_hat = np.sum(f(x) * w)\n",
    "    return I_hat, x, w"
   ]
  },
  {
   "cell_type": "code",
   "execution_count": 12,
   "metadata": {},
   "outputs": [],
   "source": [
    "def adaptive_quad(a, b, f, tol, M, method):\n",
    "\n",
    "    maxit = 50\n",
    "    left_p = np.zeros(maxit)\n",
    "    right_p = np.zeros(maxit)\n",
    "    s = np.zeros(maxit)\n",
    "    left_p[0] = a\n",
    "    right_p[0] = b\n",
    "    s[0], x, _ = method(M, a, b, f)\n",
    "    X = [x]\n",
    "    j = 1\n",
    "    I = 0\n",
    "    nsplit = 1\n",
    "    while j < maxit:\n",
    "        c = 0.5 * (left_p[j-1] + right_p[j-1])\n",
    "        s1, x_left, _ = method(M, left_p[j-1], c, f)\n",
    "        s2, x_right, _ = method(M, c, right_p[j-1], f)\n",
    "        X.append(x_left)\n",
    "        X.append(x_right)\n",
    "        if np.abs(s1 + s2 - s[j-1]) > tol:\n",
    "            left_p[j] = left_p[j-1]\n",
    "            right_p[j] = c\n",
    "            s[j] = s1\n",
    "            left_p[j-1] = c\n",
    "            s[j-1] = s2\n",
    "            j += 1\n",
    "            nsplit += 1\n",
    "        else:\n",
    "            I += s1 + s2\n",
    "            j -= 1\n",
    "            if j == 0:\n",
    "                j = maxit\n",
    "    all_nodes = np.concatenate(X)\n",
    "    return I, np.unique(all_nodes), nsplit"
   ]
  },
  {
   "cell_type": "code",
   "execution_count": 15,
   "metadata": {},
   "outputs": [
    {
     "name": "stdout",
     "output_type": "stream",
     "text": [
      "Adaptive Quadrature Results for sin(1/x) on [0.1, 2] with tol=1e-3 and M=5 nodes:\n",
      "\n",
      "Method: Composite Trapezoidal\n",
      "  Approximate Integral: 1.1453764121229983\n",
      "  Number of Subinterval Splits: 9\n",
      "  Unique Grid Nodes: [0.1        0.10371094 0.10742188 0.11113281 0.11484375 0.11484375\n",
      " 0.11855469 0.12226563 0.12597656 0.1296875  0.13339844 0.13710938\n",
      " 0.14082031 0.14453125 0.14824219 0.15195312 0.15566406 0.159375\n",
      " 0.159375   0.16679687 0.17421875 0.18164062 0.1890625  0.19648437\n",
      " 0.20390625 0.21132813 0.21875    0.21875    0.23359375 0.2484375\n",
      " 0.26328125 0.278125   0.29296875 0.3078125  0.32265625 0.3375\n",
      " 0.35234375 0.3671875  0.38203125 0.396875   0.41171875 0.4265625\n",
      " 0.44140625 0.45625    0.47109375 0.4859375  0.50078125 0.515625\n",
      " 0.53046875 0.5453125  0.56015625 0.575      0.575      0.634375\n",
      " 0.69375    0.753125   0.8125     0.871875   0.93125    0.990625\n",
      " 1.05       1.109375   1.16875    1.16875    1.228125   1.2875\n",
      " 1.346875   1.40625    1.465625   1.525      1.584375   1.64375\n",
      " 1.703125   1.7625     1.821875   1.88125    1.940625   2.        ]\n",
      "\n",
      "Method: Composite Simpson's\n",
      "  Approximate Integral: 1.1455955146249206\n",
      "  Number of Subinterval Splits: 6\n",
      "  Unique Grid Nodes: [0.1        0.10742188 0.11484375 0.11484375 0.12226563 0.1296875\n",
      " 0.13710938 0.14453125 0.15195312 0.159375   0.159375   0.16679687\n",
      " 0.17421875 0.18164062 0.1890625  0.19648437 0.20390625 0.21132813\n",
      " 0.21875    0.21875    0.23359375 0.2484375  0.26328125 0.278125\n",
      " 0.29296875 0.3078125  0.32265625 0.3375     0.3671875  0.396875\n",
      " 0.4265625  0.45625    0.4859375  0.515625   0.5453125  0.575\n",
      " 0.575      0.634375   0.69375    0.753125   0.8125     0.871875\n",
      " 0.93125    0.990625   1.05       1.16875    1.2875     1.40625\n",
      " 1.525      1.64375    1.7625     1.88125    2.        ]\n",
      "\n",
      "Method: Gaussian Quadrature\n",
      "  Approximate Integral: 1.1455813847154854\n",
      "  Number of Subinterval Splits: 5\n",
      "  Unique Grid Nodes: [0.10278529 0.10557057 0.11114114 0.11370169 0.12228229 0.12740338\n",
      " 0.1296875  0.14456457 0.14567331 0.15480677 0.15658971 0.159375\n",
      " 0.16216029 0.17307669 0.1890625  0.18912915 0.19134662 0.20504831\n",
      " 0.20961354 0.21317943 0.21596471 0.21875    0.22153529 0.22432057\n",
      " 0.23245169 0.24615338 0.2484375  0.26442331 0.27533971 0.278125\n",
      " 0.28091029 0.28269323 0.29182669 0.3078125  0.31009662 0.31922708\n",
      " 0.32379831 0.32635886 0.33192943 0.33471471 0.3375     0.34307057\n",
      " 0.34864114 0.36490338 0.39230677 0.396875   0.42884662 0.45067943\n",
      " 0.45625    0.46182057 0.46538646 0.48365338 0.515625   0.52019323\n",
      " 0.53845416 0.54759662 0.55271771 0.56385886 0.56942943 0.575\n",
      " 0.58614114 0.59728229 0.62980677 0.68461354 0.69375    0.75769323\n",
      " 0.80135886 0.8125     0.82364114 0.83077292 0.86730677 0.93125\n",
      " 0.94038646 0.99519323 1.00543543 1.02771771 1.03885886 1.05\n",
      " 1.07228229 1.09456457 1.15961354 1.26922708 1.2875     1.41538646\n",
      " 1.50271771 1.525      1.54728229 1.56154584 1.63461354 1.7625\n",
      " 1.78077292 1.89038646 1.91087085 1.95543543 1.97771771]\n"
     ]
    }
   ],
   "source": [
    "def integrand(x):\n",
    "    return np.sin(1/x)\n",
    "\n",
    "a = 0.1\n",
    "b = 2.0\n",
    "tol = 1e-3\n",
    "\n",
    "M = 5\n",
    "\n",
    "methods = {\n",
    "    \"Composite Trapezoidal\": eval_composite_trap,\n",
    "    \"Composite Simpson's\": eval_composite_simpsons,\n",
    "    \"Gaussian Quadrature\": eval_gauss_quad\n",
    "}\n",
    "\n",
    "results = {}\n",
    "\n",
    "print(\"Adaptive Quadrature Results for sin(1/x) on [0.1, 2] with tol=1e-3 and M=5 nodes:\")\n",
    "for method_name, method_func in methods.items():\n",
    "        I, grid, nsplit = adaptive_quad(a, b, integrand, tol, M, method_func)\n",
    "        results[method_name] = {\n",
    "            \"Approx Integral\": I,\n",
    "            \"Grid Nodes\": grid,\n",
    "            \"Interval Splits\": nsplit\n",
    "        }\n",
    "        print(f\"\\nMethod: {method_name}\")\n",
    "        print(f\"  Approximate Integral: {I}\")\n",
    "        print(f\"  Number of Subinterval Splits: {nsplit}\")\n",
    "        print(f\"  Unique Grid Nodes: {grid}\")\n"
   ]
  },
  {
   "cell_type": "code",
   "execution_count": null,
   "metadata": {},
   "outputs": [],
   "source": []
  }
 ],
 "metadata": {
  "kernelspec": {
   "display_name": "Python 3",
   "language": "python",
   "name": "python3"
  },
  "language_info": {
   "codemirror_mode": {
    "name": "ipython",
    "version": 3
   },
   "file_extension": ".py",
   "mimetype": "text/x-python",
   "name": "python",
   "nbconvert_exporter": "python",
   "pygments_lexer": "ipython3",
   "version": "3.13.2"
  }
 },
 "nbformat": 4,
 "nbformat_minor": 2
}
